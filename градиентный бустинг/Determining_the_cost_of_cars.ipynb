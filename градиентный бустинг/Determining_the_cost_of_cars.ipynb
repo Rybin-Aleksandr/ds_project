{
 "cells": [
  {
   "cell_type": "markdown",
   "metadata": {},
   "source": [
    "## План\n",
    "      1. Загрузим и подготовим данные.\n",
    "      2. Обучим разные модели. Для каждой попробуем различные гипепараметеры.\n",
    "      3. Проанализируем скорость работы и качество моделей."
   ]
  },
  {
   "cell_type": "markdown",
   "metadata": {},
   "source": [
    "# 1. Подготовка данных"
   ]
  },
  {
   "cell_type": "code",
   "execution_count": 2,
   "metadata": {},
   "outputs": [],
   "source": [
    "# импорты\n",
    "import pandas as pd\n",
    "import time\n",
    "import numpy as np\n",
    "import lightgbm as lgb\n",
    "from sklearn.metrics import make_scorer\n",
    "from sklearn.metrics import mean_squared_error\n",
    "from sklearn.preprocessing import OrdinalEncoder \n",
    "from sklearn.model_selection import GridSearchCV\n",
    "from sklearn.ensemble import RandomForestRegressor\n",
    "from sklearn.model_selection import train_test_split"
   ]
  },
  {
   "cell_type": "code",
   "execution_count": 3,
   "metadata": {},
   "outputs": [
    {
     "data": {
      "text/html": [
       "<div>\n",
       "<style scoped>\n",
       "    .dataframe tbody tr th:only-of-type {\n",
       "        vertical-align: middle;\n",
       "    }\n",
       "\n",
       "    .dataframe tbody tr th {\n",
       "        vertical-align: top;\n",
       "    }\n",
       "\n",
       "    .dataframe thead th {\n",
       "        text-align: right;\n",
       "    }\n",
       "</style>\n",
       "<table border=\"1\" class=\"dataframe\">\n",
       "  <thead>\n",
       "    <tr style=\"text-align: right;\">\n",
       "      <th></th>\n",
       "      <th>DateCrawled</th>\n",
       "      <th>Price</th>\n",
       "      <th>VehicleType</th>\n",
       "      <th>RegistrationYear</th>\n",
       "      <th>Gearbox</th>\n",
       "      <th>Power</th>\n",
       "      <th>Model</th>\n",
       "      <th>Kilometer</th>\n",
       "      <th>RegistrationMonth</th>\n",
       "      <th>FuelType</th>\n",
       "      <th>Brand</th>\n",
       "      <th>NotRepaired</th>\n",
       "      <th>DateCreated</th>\n",
       "      <th>NumberOfPictures</th>\n",
       "      <th>PostalCode</th>\n",
       "      <th>LastSeen</th>\n",
       "    </tr>\n",
       "  </thead>\n",
       "  <tbody>\n",
       "    <tr>\n",
       "      <td>0</td>\n",
       "      <td>2016-03-24 11:52:17</td>\n",
       "      <td>480</td>\n",
       "      <td>NaN</td>\n",
       "      <td>1993</td>\n",
       "      <td>manual</td>\n",
       "      <td>0</td>\n",
       "      <td>golf</td>\n",
       "      <td>150000</td>\n",
       "      <td>0</td>\n",
       "      <td>petrol</td>\n",
       "      <td>volkswagen</td>\n",
       "      <td>NaN</td>\n",
       "      <td>2016-03-24 00:00:00</td>\n",
       "      <td>0</td>\n",
       "      <td>70435</td>\n",
       "      <td>2016-04-07 03:16:57</td>\n",
       "    </tr>\n",
       "    <tr>\n",
       "      <td>1</td>\n",
       "      <td>2016-03-24 10:58:45</td>\n",
       "      <td>18300</td>\n",
       "      <td>coupe</td>\n",
       "      <td>2011</td>\n",
       "      <td>manual</td>\n",
       "      <td>190</td>\n",
       "      <td>NaN</td>\n",
       "      <td>125000</td>\n",
       "      <td>5</td>\n",
       "      <td>gasoline</td>\n",
       "      <td>audi</td>\n",
       "      <td>yes</td>\n",
       "      <td>2016-03-24 00:00:00</td>\n",
       "      <td>0</td>\n",
       "      <td>66954</td>\n",
       "      <td>2016-04-07 01:46:50</td>\n",
       "    </tr>\n",
       "    <tr>\n",
       "      <td>2</td>\n",
       "      <td>2016-03-14 12:52:21</td>\n",
       "      <td>9800</td>\n",
       "      <td>suv</td>\n",
       "      <td>2004</td>\n",
       "      <td>auto</td>\n",
       "      <td>163</td>\n",
       "      <td>grand</td>\n",
       "      <td>125000</td>\n",
       "      <td>8</td>\n",
       "      <td>gasoline</td>\n",
       "      <td>jeep</td>\n",
       "      <td>NaN</td>\n",
       "      <td>2016-03-14 00:00:00</td>\n",
       "      <td>0</td>\n",
       "      <td>90480</td>\n",
       "      <td>2016-04-05 12:47:46</td>\n",
       "    </tr>\n",
       "    <tr>\n",
       "      <td>3</td>\n",
       "      <td>2016-03-17 16:54:04</td>\n",
       "      <td>1500</td>\n",
       "      <td>small</td>\n",
       "      <td>2001</td>\n",
       "      <td>manual</td>\n",
       "      <td>75</td>\n",
       "      <td>golf</td>\n",
       "      <td>150000</td>\n",
       "      <td>6</td>\n",
       "      <td>petrol</td>\n",
       "      <td>volkswagen</td>\n",
       "      <td>no</td>\n",
       "      <td>2016-03-17 00:00:00</td>\n",
       "      <td>0</td>\n",
       "      <td>91074</td>\n",
       "      <td>2016-03-17 17:40:17</td>\n",
       "    </tr>\n",
       "    <tr>\n",
       "      <td>4</td>\n",
       "      <td>2016-03-31 17:25:20</td>\n",
       "      <td>3600</td>\n",
       "      <td>small</td>\n",
       "      <td>2008</td>\n",
       "      <td>manual</td>\n",
       "      <td>69</td>\n",
       "      <td>fabia</td>\n",
       "      <td>90000</td>\n",
       "      <td>7</td>\n",
       "      <td>gasoline</td>\n",
       "      <td>skoda</td>\n",
       "      <td>no</td>\n",
       "      <td>2016-03-31 00:00:00</td>\n",
       "      <td>0</td>\n",
       "      <td>60437</td>\n",
       "      <td>2016-04-06 10:17:21</td>\n",
       "    </tr>\n",
       "  </tbody>\n",
       "</table>\n",
       "</div>"
      ],
      "text/plain": [
       "           DateCrawled  Price VehicleType  RegistrationYear Gearbox  Power  \\\n",
       "0  2016-03-24 11:52:17    480         NaN              1993  manual      0   \n",
       "1  2016-03-24 10:58:45  18300       coupe              2011  manual    190   \n",
       "2  2016-03-14 12:52:21   9800         suv              2004    auto    163   \n",
       "3  2016-03-17 16:54:04   1500       small              2001  manual     75   \n",
       "4  2016-03-31 17:25:20   3600       small              2008  manual     69   \n",
       "\n",
       "   Model  Kilometer  RegistrationMonth  FuelType       Brand NotRepaired  \\\n",
       "0   golf     150000                  0    petrol  volkswagen         NaN   \n",
       "1    NaN     125000                  5  gasoline        audi         yes   \n",
       "2  grand     125000                  8  gasoline        jeep         NaN   \n",
       "3   golf     150000                  6    petrol  volkswagen          no   \n",
       "4  fabia      90000                  7  gasoline       skoda          no   \n",
       "\n",
       "           DateCreated  NumberOfPictures  PostalCode             LastSeen  \n",
       "0  2016-03-24 00:00:00                 0       70435  2016-04-07 03:16:57  \n",
       "1  2016-03-24 00:00:00                 0       66954  2016-04-07 01:46:50  \n",
       "2  2016-03-14 00:00:00                 0       90480  2016-04-05 12:47:46  \n",
       "3  2016-03-17 00:00:00                 0       91074  2016-03-17 17:40:17  \n",
       "4  2016-03-31 00:00:00                 0       60437  2016-04-06 10:17:21  "
      ]
     },
     "metadata": {},
     "output_type": "display_data"
    },
    {
     "name": "stdout",
     "output_type": "stream",
     "text": [
      "<class 'pandas.core.frame.DataFrame'>\n",
      "RangeIndex: 354369 entries, 0 to 354368\n",
      "Data columns (total 16 columns):\n",
      "DateCrawled          354369 non-null object\n",
      "Price                354369 non-null int64\n",
      "VehicleType          316879 non-null object\n",
      "RegistrationYear     354369 non-null int64\n",
      "Gearbox              334536 non-null object\n",
      "Power                354369 non-null int64\n",
      "Model                334664 non-null object\n",
      "Kilometer            354369 non-null int64\n",
      "RegistrationMonth    354369 non-null int64\n",
      "FuelType             321474 non-null object\n",
      "Brand                354369 non-null object\n",
      "NotRepaired          283215 non-null object\n",
      "DateCreated          354369 non-null object\n",
      "NumberOfPictures     354369 non-null int64\n",
      "PostalCode           354369 non-null int64\n",
      "LastSeen             354369 non-null object\n",
      "dtypes: int64(7), object(9)\n",
      "memory usage: 43.3+ MB\n",
      "0     37352\n",
      "3     34373\n",
      "6     31508\n",
      "4     29270\n",
      "5     29153\n",
      "7     27213\n",
      "10    26099\n",
      "12    24289\n",
      "11    24186\n",
      "9     23813\n",
      "1     23219\n",
      "8     22627\n",
      "2     21267\n",
      "Name: RegistrationMonth, dtype: int64\n"
     ]
    }
   ],
   "source": [
    "# выгрузим данные\n",
    "data = pd.read_csv('/datasets/autos.csv')\n",
    "display(data.head())\n",
    "data.info()\n",
    "\n",
    "# заменим NAN странные \"0\" месяцы\n",
    "strange_column = data['RegistrationMonth']\n",
    "print(data['RegistrationMonth'].value_counts())\n",
    "data.loc[data['RegistrationMonth'] == 0, 'RegistrationMonth'] = np.nan"
   ]
  },
  {
   "cell_type": "code",
   "execution_count": 4,
   "metadata": {},
   "outputs": [
    {
     "name": "stdout",
     "output_type": "stream",
     "text": [
      "['VehicleType', 'Gearbox', 'Model', 'FuelType', 'Brand', 'NotRepaired']\n"
     ]
    }
   ],
   "source": [
    "# избавимся от NaN\n",
    "data.dropna(inplace = True)\n",
    "# удалим столбцы с почтовыми игдексами и количестовм фоток (т.к они нас не интересуют и на стоимость не влияют)\n",
    "data.drop(['PostalCode','NumberOfPictures','DateCrawled', 'DateCreated', 'LastSeen'], axis = 1, inplace = True)\n",
    "\n",
    "# Выделим списки с именами столбцов фитч и категориальных фитч\n",
    "name_features = data.drop('Price', axis=1).columns.tolist()\n",
    "name_object_features = data.select_dtypes(include=['object']).columns.tolist()\n",
    "\n",
    "\n",
    "print(name_object_features)"
   ]
  },
  {
   "cell_type": "code",
   "execution_count": 5,
   "metadata": {},
   "outputs": [
    {
     "data": {
      "text/plain": [
       "0"
      ]
     },
     "execution_count": 5,
     "metadata": {},
     "output_type": "execute_result"
    }
   ],
   "source": [
    "# Уберем аномалии  и дубликаты\n",
    "data = data.query('Price > 500')\n",
    "data = data.query('Power < 400')\n",
    "data = data.query('RegistrationYear > 1970')\n",
    "data.drop_duplicates(inplace = True)\n",
    "data.duplicated().sum()"
   ]
  },
  {
   "cell_type": "code",
   "execution_count": 6,
   "metadata": {},
   "outputs": [],
   "source": [
    "# применим Encoder для дальнейшего использования рандомного леса (one-hot encoding не подхолит, \n",
    "# поскольку угрожает весить 65 ГБ, что недопустимо в рамках этого проекта )\n",
    "encoder = OrdinalEncoder() \n",
    "\n",
    "# сохраним в отдельный датасет \n",
    "data_encoder = pd.DataFrame(encoder.fit_transform(data),columns = data.columns)"
   ]
  },
  {
   "cell_type": "code",
   "execution_count": 7,
   "metadata": {},
   "outputs": [],
   "source": [
    "# выделим фитчи для 2 датасетов\n",
    "features = data_encoder.loc[:,name_features]\n",
    "target = data_encoder['Price']"
   ]
  },
  {
   "cell_type": "code",
   "execution_count": 8,
   "metadata": {},
   "outputs": [],
   "source": [
    "# заменим все столбцы с 'object' на 'category'\n",
    "for c in name_object_features:\n",
    "    features.loc[:,c] = features.loc[:,c].astype('category')\n",
    "    \n",
    "name_categorical_features = name_object_features"
   ]
  },
  {
   "cell_type": "code",
   "execution_count": 9,
   "metadata": {},
   "outputs": [],
   "source": [
    "# разделим для градиентного бустинга на 3 выборки по скольку он использует валидационную\n",
    "features_train, features_valid, features_test = np.split(features.sample(frac=1, random_state = 12345), \n",
    "                                                            [int(.6*len(features)), int(.8*len(features))])\n",
    "target_train, target_valid, target_test = np.split(target.sample(frac=1, random_state = 12345), \n",
    "                                                            [int(.6*len(target)), int(.8*len(target))])\n",
    "\n",
    "# для рандомного леса разделим на 2\n",
    "features_train_encoder, features_test_encoder, target_train_encoder, target_test_encoder = train_test_split(\n",
    "    features,target, test_size=0.25, random_state=12345)"
   ]
  },
  {
   "cell_type": "markdown",
   "metadata": {},
   "source": [
    "## Вывод\n",
    "Мы видим довольно объемную выборку на 350 000 строк и 16 столбцов. После недолгих раздумий мы удаляем столбцы 'PostalCode' и 'NumberOfPictures', по-скольку те не влияют на итоговую стоимость авто (количество фоток влияет на на продавемость? Да! Но это уже другой анализ). Так-же можно заметить аномалию в перовой же строчке таблицы в столбце RegistrationMonth: избавляемся с помощью амены на NaN. Далее мы дропаем все NaN в таблице, чтобы воспользоваться OrdinalEncoder для, чтобы избавится от символьных переменных. Переводим все 'object' в 'category' для дальнейшего бустинга. Используя разные сплиты формируем выборки для 2 будующих моделей."
   ]
  },
  {
   "cell_type": "markdown",
   "metadata": {},
   "source": [
    "# 2. Обучение моделей"
   ]
  },
  {
   "cell_type": "code",
   "execution_count": 10,
   "metadata": {},
   "outputs": [
    {
     "data": {
      "text/plain": [
       "['VehicleType',\n",
       " 'RegistrationYear',\n",
       " 'Gearbox',\n",
       " 'Power',\n",
       " 'Model',\n",
       " 'Kilometer',\n",
       " 'RegistrationMonth',\n",
       " 'FuelType',\n",
       " 'Brand',\n",
       " 'NotRepaired']"
      ]
     },
     "execution_count": 10,
     "metadata": {},
     "output_type": "execute_result"
    }
   ],
   "source": [
    "name_features"
   ]
  },
  {
   "cell_type": "code",
   "execution_count": 356,
   "metadata": {},
   "outputs": [
    {
     "name": "stdout",
     "output_type": "stream",
     "text": [
      "Training until validation scores don't improve for 20 rounds\n",
      "[20]\tvalid_0's rmse: 336.661\n",
      "[40]\tvalid_0's rmse: 288.98\n",
      "[60]\tvalid_0's rmse: 281.332\n",
      "[80]\tvalid_0's rmse: 278.503\n",
      "[100]\tvalid_0's rmse: 276.572\n",
      "[120]\tvalid_0's rmse: 275.342\n",
      "[140]\tvalid_0's rmse: 274.225\n",
      "[160]\tvalid_0's rmse: 273.329\n",
      "[180]\tvalid_0's rmse: 272.566\n",
      "[200]\tvalid_0's rmse: 272.028\n",
      "Did not meet early stopping. Best iteration is:\n",
      "[200]\tvalid_0's rmse: 272.028\n",
      "CPU times: user 11.9 s, sys: 109 ms, total: 12 s\n",
      "Wall time: 12.1 s\n"
     ]
    }
   ],
   "source": [
    "%%time\n",
    "\n",
    "# сформируем датасеты train и valid\n",
    "gbm_train = lgb.Dataset(features_train,label = target_train, feature_name = name_features, \n",
    "                        categorical_feature = name_categorical_features,free_raw_data=False)\n",
    "\n",
    "gbm_valid = lgb.Dataset(features_valid,label = target_valid, feature_name = name_features, \n",
    "                        categorical_feature = name_categorical_features,free_raw_data=False)\n",
    "\n",
    "# в параметрах укажем необходимое + оценочную метрику (благо есть rmse)\n",
    "param = {'num_leaves': 31}\n",
    "param['metric'] = 'rmse'\n",
    "\n",
    "# обучим с 200 итрациями с выводм по 20 и ранним торможением после 20 итераций нероста \n",
    "num_round = 200\n",
    "lgbm = lgb.train(param, gbm_train, num_round,valid_sets = gbm_valid, verbose_eval = 20, \n",
    "          early_stopping_rounds = 20,categorical_feature = name_categorical_features)"
   ]
  },
  {
   "cell_type": "code",
   "execution_count": 357,
   "metadata": {},
   "outputs": [
    {
     "name": "stdout",
     "output_type": "stream",
     "text": [
      "The parameters combination that would give best RMSE is : \n",
      "{'max_depth': 1, 'n_estimators': 10}\n",
      "The RMSE accuracy achieved after parameter tuning via grid search is :  642.8043584503027\n",
      "CPU times: user 17.9 s, sys: 240 ms, total: 18.1 s\n",
      "Wall time: 18.1 s\n"
     ]
    }
   ],
   "source": [
    "%%time\n",
    "\n",
    "# обучим лес с пмощью GridSearchCV \n",
    "state = 12345\n",
    "rfg = RandomForestRegressor(random_state = state)\n",
    "forest_parametrs = { 'n_estimators': range (10, 31, 10),\n",
    "              'max_depth': range (1,5, 2)}\n",
    "\n",
    "# в скорер запишем MSE а в вывод лучшего RMSE\n",
    "scorer = make_scorer(mean_squared_error)\n",
    "grid_rfg = GridSearchCV(rfg, forest_parametrs, cv = 3, scoring = scorer)\n",
    "grid_rfg.fit(features_train_encoder, target_train_encoder)\n",
    "\n",
    "# выведем лучший результат \n",
    "print('The parameters combination that would give best RMSE is : ')\n",
    "print(grid_rfg.best_params_)\n",
    "print('The RMSE accuracy achieved after parameter tuning via grid search is : ', np.sqrt(grid_rfg.best_score_))"
   ]
  },
  {
   "cell_type": "markdown",
   "metadata": {},
   "source": [
    "## Вывод\n",
    "Как мы можем заметить, градиентный бустинг (в равных условиях) значительно быстрее и точнее рандомного леса. "
   ]
  },
  {
   "cell_type": "markdown",
   "metadata": {},
   "source": [
    "# 3. Анализ моделей"
   ]
  },
  {
   "cell_type": "code",
   "execution_count": 358,
   "metadata": {},
   "outputs": [
    {
     "name": "stdout",
     "output_type": "stream",
     "text": [
      "276.1391047781168\n",
      "638.9190381337171\n"
     ]
    },
    {
     "data": {
      "text/plain": [
       "<matplotlib.axes._subplots.AxesSubplot at 0x7f70b04c1f50>"
      ]
     },
     "execution_count": 358,
     "metadata": {},
     "output_type": "execute_result"
    },
    {
     "data": {
      "image/png": "[encoded data removed]",
      "text/plain": [
       "<Figure size 432x288 with 1 Axes>"
      ]
     },
     "metadata": {
      "needs_background": "light"
     },
     "output_type": "display_data"
    }
   ],
   "source": [
    "# посмотрим на тестовой выборке для градиентного бустинга\n",
    "lgbm_predicted = lgbm.predict(features_test)\n",
    "print(np.sqrt(mean_squared_error(lgbm_predicted, target_test)))\n",
    "\n",
    "# посмотрим на тестовой выборке для рандомного леса\n",
    "model = RandomForestRegressor(**grid_clf.best_params_, random_state=12345)\n",
    "model.fit(features_train_encoder, target_train_encoder)\n",
    "rfg_predicted = model.predict(features_test_encoder)\n",
    "print(np.sqrt(mean_squared_error(rfg_predicted, target_test_encoder)))\n",
    "\n",
    "\n",
    "# воспользуемся для построения функции важности параметров \n",
    "lgb.plot_importance(lgbm)\n",
    "\n",
    "# хотел использвать это но здесь нет этой бибилиотеки, а на попытку установки получил ошибку)\n",
    "#fs = FeatureSelector(data = features, labels = target)\n",
    "#fs.plot_feature_importances(threshold = 0.95)"
   ]
  },
  {
   "cell_type": "markdown",
   "metadata": {},
   "source": [
    "## Вывод\n",
    "Как мы видим точность бустинга выше почти в 2 раза (по метрике RMSE), скорость также намного выше у бустинга. Из чего мы можем сделать вывод о том , что градиентный бустинг предпочтительнее (особенно на больших выборках 1 млн + строк) нежели другие модели ввиду своего удобства (LightGBM способен работать и с категориальными признаками в 8 раз быстрее чем при кодировании их с помощью прямого кодирования) , скорости и точности предсказаний."
   ]
  }
 ],
 "metadata": {
  "kernelspec": {
   "display_name": "Python 3",
   "language": "python",
   "name": "python3"
  },
  "language_info": {
   "codemirror_mode": {
    "name": "ipython",
    "version": 3
   },
   "file_extension": ".py",
   "mimetype": "text/x-python",
   "name": "python",
   "nbconvert_exporter": "python",
   "pygments_lexer": "ipython3",
   "version": "3.8.5"
  },
  "toc": {
   "base_numbering": 1,
   "nav_menu": {},
   "number_sections": true,
   "sideBar": true,
   "skip_h1_title": true,
   "title_cell": "Table of Contents",
   "title_sidebar": "Contents",
   "toc_cell": false,
   "toc_position": {},
   "toc_section_display": true,
   "toc_window_display": false
  }
 },
 "nbformat": 4,
 "nbformat_minor": 2
}
