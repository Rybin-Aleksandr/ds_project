{
 "cells": [
  {
   "cell_type": "markdown",
   "metadata": {},
   "source": [
    "# Описание проекта"
   ]
  },
  {
   "cell_type": "markdown",
   "metadata": {},
   "source": [
    "Допустим, вы работаете в добывающей компании. Нужно решить, где бурить новую скважину.\n",
    "\n",
    "Предоставлены пробы нефти в трёх регионах: в каждом 10 000 месторождений, где измерили качество нефти и объём её запасов. Необходимо построить модель машинного обучения, которая поможет определить регион, где добыча принесёт наибольшую прибыль. Проанализируйте возможную прибыль и риски техникой *Bootstrap.*"
   ]
  },
  {
   "cell_type": "markdown",
   "metadata": {},
   "source": [
    "<a id='tap_table_of_contents'></a>\n",
    "## Оглавление\n",
    "<dl>\n",
    "    <dt><a href='#plan'>План</a></dt><br/>\n",
    "    <dt><a href='#opis_dann'>Описание данных</a></dt><br/>\n",
    "    <dt><a href='#the_task'>Условие задачи</a></dt><br/>\n",
    "    <dt><a href='#data_preparation'>1. Загрузка и подготовка данных</a></dt><br/>\n",
    "    <dt><a href='#train_test_model'>2. Обучение и проверка модели</a></dt><br/>\n",
    "    <dt><a href='#preparation_for_calculating'>3. Подготовка к расчёту прибыли</a></dt><br/>\n",
    "    <dt><a href='#profit_calculation'>4. Расчёт прибыли и рисков</a></dt><br/>\n",
    "    <dt><a href='#test_model'>5. Расчет рисков и прибыли для каждого региона</a></dt><br/>\n",
    "    <dt><a href='#vuvod'>6. Вывод</a></dt><br/>\n",
    "\n",
    "</dl>"
   ]
  },
  {
   "cell_type": "markdown",
   "metadata": {},
   "source": [
    "<a id='plan'></a>\n",
    "## План\n",
    "    1. Загрузим и подготовим данные. Поясним порядок действий.\n",
    "    2. Обучим и проверим модель для каждого региона:\n",
    "      2.1. Разобьем данные на обучающую и валидационную выборки в соотношении 75:25.\n",
    "      2.2. Обучите модель и сделайте предсказания на валидационной выборке.\n",
    "      2.3. Сохраним предсказания и правильные ответы на валидационной выборке.\n",
    "      2.4. Напечатаем на экране средний запас предсказанного сырья и RMSE модели.\n",
    "      2.5. Проанализируем результаты.\n",
    "    3. Подготовимся к расчёту прибыли:\n",
    "      3.1. Все ключевые значения для расчётов сохраним в отдельных переменных.\n",
    "      3.2. Рассчитаем достаточный объём сырья для безубыточной разработки новой скважины. Сравним полученный объём сырья со           средним запасом в каждом регионе.\n",
    "      3.3. Напишем выводы по этапу подготовки расчёта прибыли.\n",
    "    4. Напишем функцию для расчёта прибыли по выбранным скважинам и предсказаниям модели:\n",
    "      4.1. Выберем скважины с максимальными значениями предсказаний.\n",
    "      4.2. Просуммируем целевое значение объёма сырья, соответствующее этим предсказаниям.\n",
    "      4.3. Рассчитаем прибыль для полученного объёма сырья.\n",
    "    5. Посчитаем риски и прибыль для каждого региона:\n",
    "      5.1. Применим технику Bootstrap с 1000 выборок, чтобы найти распределение прибыли.\n",
    "      5.2. Найдем среднюю прибыль, 95%-й доверительный интервал и риск убытков. Убыток — это отрицательная прибыль.\n",
    "      5.3. Напишем выводы: предложим регион для разработки скважин и обоснуем выбор."
   ]
  },
  {
   "cell_type": "markdown",
   "metadata": {},
   "source": [
    "<a id='data_preparation'></a>\n",
    "# 1. Загрузка и подготовка данных"
   ]
  },
  {
   "cell_type": "markdown",
   "metadata": {},
   "source": [
    "<dt><a href='#tap_table_of_contents'>Оглавление</a></dt>"
   ]
  },
  {
   "cell_type": "code",
   "execution_count": 10,
   "metadata": {},
   "outputs": [],
   "source": [
    "# импортируем необходимые библитотеки \n",
    "import pandas as pd\n",
    "import numpy as np\n",
    "from sklearn.linear_model import LinearRegression\n",
    "from sklearn.metrics import mean_squared_error\n",
    "from sklearn.model_selection import train_test_split\n",
    "from sklearn.metrics import mean_absolute_error\n",
    "from sklearn.metrics import r2_score\n",
    "import matplotlib.pyplot as plt\n",
    "from scipy import stats as st"
   ]
  },
  {
   "cell_type": "code",
   "execution_count": 11,
   "metadata": {},
   "outputs": [
    {
     "data": {
      "text/html": [
       "<div>\n",
       "<style scoped>\n",
       "    .dataframe tbody tr th:only-of-type {\n",
       "        vertical-align: middle;\n",
       "    }\n",
       "\n",
       "    .dataframe tbody tr th {\n",
       "        vertical-align: top;\n",
       "    }\n",
       "\n",
       "    .dataframe thead th {\n",
       "        text-align: right;\n",
       "    }\n",
       "</style>\n",
       "<table border=\"1\" class=\"dataframe\">\n",
       "  <thead>\n",
       "    <tr style=\"text-align: right;\">\n",
       "      <th></th>\n",
       "      <th>f0</th>\n",
       "      <th>f1</th>\n",
       "      <th>f2</th>\n",
       "      <th>product</th>\n",
       "    </tr>\n",
       "  </thead>\n",
       "  <tbody>\n",
       "    <tr>\n",
       "      <td>0</td>\n",
       "      <td>0.705745</td>\n",
       "      <td>-0.497823</td>\n",
       "      <td>1.221170</td>\n",
       "      <td>105.280062</td>\n",
       "    </tr>\n",
       "    <tr>\n",
       "      <td>1</td>\n",
       "      <td>1.334711</td>\n",
       "      <td>-0.340164</td>\n",
       "      <td>4.365080</td>\n",
       "      <td>73.037750</td>\n",
       "    </tr>\n",
       "    <tr>\n",
       "      <td>2</td>\n",
       "      <td>1.022732</td>\n",
       "      <td>0.151990</td>\n",
       "      <td>1.419926</td>\n",
       "      <td>85.265647</td>\n",
       "    </tr>\n",
       "    <tr>\n",
       "      <td>3</td>\n",
       "      <td>-0.032172</td>\n",
       "      <td>0.139033</td>\n",
       "      <td>2.978566</td>\n",
       "      <td>168.620776</td>\n",
       "    </tr>\n",
       "    <tr>\n",
       "      <td>4</td>\n",
       "      <td>1.988431</td>\n",
       "      <td>0.155413</td>\n",
       "      <td>4.751769</td>\n",
       "      <td>154.036647</td>\n",
       "    </tr>\n",
       "  </tbody>\n",
       "</table>\n",
       "</div>"
      ],
      "text/plain": [
       "         f0        f1        f2     product\n",
       "0  0.705745 -0.497823  1.221170  105.280062\n",
       "1  1.334711 -0.340164  4.365080   73.037750\n",
       "2  1.022732  0.151990  1.419926   85.265647\n",
       "3 -0.032172  0.139033  2.978566  168.620776\n",
       "4  1.988431  0.155413  4.751769  154.036647"
      ]
     },
     "metadata": {},
     "output_type": "display_data"
    },
    {
     "data": {
      "text/html": [
       "<div>\n",
       "<style scoped>\n",
       "    .dataframe tbody tr th:only-of-type {\n",
       "        vertical-align: middle;\n",
       "    }\n",
       "\n",
       "    .dataframe tbody tr th {\n",
       "        vertical-align: top;\n",
       "    }\n",
       "\n",
       "    .dataframe thead th {\n",
       "        text-align: right;\n",
       "    }\n",
       "</style>\n",
       "<table border=\"1\" class=\"dataframe\">\n",
       "  <thead>\n",
       "    <tr style=\"text-align: right;\">\n",
       "      <th></th>\n",
       "      <th>f0</th>\n",
       "      <th>f1</th>\n",
       "      <th>f2</th>\n",
       "      <th>product</th>\n",
       "    </tr>\n",
       "  </thead>\n",
       "  <tbody>\n",
       "    <tr>\n",
       "      <td>0</td>\n",
       "      <td>-15.001348</td>\n",
       "      <td>-8.276000</td>\n",
       "      <td>-0.005876</td>\n",
       "      <td>3.179103</td>\n",
       "    </tr>\n",
       "    <tr>\n",
       "      <td>1</td>\n",
       "      <td>14.272088</td>\n",
       "      <td>-3.475083</td>\n",
       "      <td>0.999183</td>\n",
       "      <td>26.953261</td>\n",
       "    </tr>\n",
       "    <tr>\n",
       "      <td>2</td>\n",
       "      <td>6.263187</td>\n",
       "      <td>-5.948386</td>\n",
       "      <td>5.001160</td>\n",
       "      <td>134.766305</td>\n",
       "    </tr>\n",
       "    <tr>\n",
       "      <td>3</td>\n",
       "      <td>-13.081196</td>\n",
       "      <td>-11.506057</td>\n",
       "      <td>4.999415</td>\n",
       "      <td>137.945408</td>\n",
       "    </tr>\n",
       "    <tr>\n",
       "      <td>4</td>\n",
       "      <td>12.702195</td>\n",
       "      <td>-8.147433</td>\n",
       "      <td>5.004363</td>\n",
       "      <td>134.766305</td>\n",
       "    </tr>\n",
       "  </tbody>\n",
       "</table>\n",
       "</div>"
      ],
      "text/plain": [
       "          f0         f1        f2     product\n",
       "0 -15.001348  -8.276000 -0.005876    3.179103\n",
       "1  14.272088  -3.475083  0.999183   26.953261\n",
       "2   6.263187  -5.948386  5.001160  134.766305\n",
       "3 -13.081196 -11.506057  4.999415  137.945408\n",
       "4  12.702195  -8.147433  5.004363  134.766305"
      ]
     },
     "metadata": {},
     "output_type": "display_data"
    },
    {
     "data": {
      "text/html": [
       "<div>\n",
       "<style scoped>\n",
       "    .dataframe tbody tr th:only-of-type {\n",
       "        vertical-align: middle;\n",
       "    }\n",
       "\n",
       "    .dataframe tbody tr th {\n",
       "        vertical-align: top;\n",
       "    }\n",
       "\n",
       "    .dataframe thead th {\n",
       "        text-align: right;\n",
       "    }\n",
       "</style>\n",
       "<table border=\"1\" class=\"dataframe\">\n",
       "  <thead>\n",
       "    <tr style=\"text-align: right;\">\n",
       "      <th></th>\n",
       "      <th>f0</th>\n",
       "      <th>f1</th>\n",
       "      <th>f2</th>\n",
       "      <th>product</th>\n",
       "    </tr>\n",
       "  </thead>\n",
       "  <tbody>\n",
       "    <tr>\n",
       "      <td>0</td>\n",
       "      <td>-1.146987</td>\n",
       "      <td>0.963328</td>\n",
       "      <td>-0.828965</td>\n",
       "      <td>27.758673</td>\n",
       "    </tr>\n",
       "    <tr>\n",
       "      <td>1</td>\n",
       "      <td>0.262778</td>\n",
       "      <td>0.269839</td>\n",
       "      <td>-2.530187</td>\n",
       "      <td>56.069697</td>\n",
       "    </tr>\n",
       "    <tr>\n",
       "      <td>2</td>\n",
       "      <td>0.194587</td>\n",
       "      <td>0.289035</td>\n",
       "      <td>-5.586433</td>\n",
       "      <td>62.871910</td>\n",
       "    </tr>\n",
       "    <tr>\n",
       "      <td>3</td>\n",
       "      <td>2.236060</td>\n",
       "      <td>-0.553760</td>\n",
       "      <td>0.930038</td>\n",
       "      <td>114.572842</td>\n",
       "    </tr>\n",
       "    <tr>\n",
       "      <td>4</td>\n",
       "      <td>-0.515993</td>\n",
       "      <td>1.716266</td>\n",
       "      <td>5.899011</td>\n",
       "      <td>149.600746</td>\n",
       "    </tr>\n",
       "  </tbody>\n",
       "</table>\n",
       "</div>"
      ],
      "text/plain": [
       "         f0        f1        f2     product\n",
       "0 -1.146987  0.963328 -0.828965   27.758673\n",
       "1  0.262778  0.269839 -2.530187   56.069697\n",
       "2  0.194587  0.289035 -5.586433   62.871910\n",
       "3  2.236060 -0.553760  0.930038  114.572842\n",
       "4 -0.515993  1.716266  5.899011  149.600746"
      ]
     },
     "metadata": {},
     "output_type": "display_data"
    },
    {
     "name": "stdout",
     "output_type": "stream",
     "text": [
      "<class 'pandas.core.frame.DataFrame'>\n",
      "RangeIndex: 100000 entries, 0 to 99999\n",
      "Data columns (total 4 columns):\n",
      "f0         100000 non-null float64\n",
      "f1         100000 non-null float64\n",
      "f2         100000 non-null float64\n",
      "product    100000 non-null float64\n",
      "dtypes: float64(4)\n",
      "memory usage: 3.1 MB\n",
      "<class 'pandas.core.frame.DataFrame'>\n",
      "RangeIndex: 100000 entries, 0 to 99999\n",
      "Data columns (total 4 columns):\n",
      "f0         100000 non-null float64\n",
      "f1         100000 non-null float64\n",
      "f2         100000 non-null float64\n",
      "product    100000 non-null float64\n",
      "dtypes: float64(4)\n",
      "memory usage: 3.1 MB\n",
      "<class 'pandas.core.frame.DataFrame'>\n",
      "RangeIndex: 100000 entries, 0 to 99999\n",
      "Data columns (total 4 columns):\n",
      "f0         100000 non-null float64\n",
      "f1         100000 non-null float64\n",
      "f2         100000 non-null float64\n",
      "product    100000 non-null float64\n",
      "dtypes: float64(4)\n",
      "memory usage: 3.1 MB\n"
     ]
    }
   ],
   "source": [
    "# откроем файлы и запишем их в df_{a,b,c}\n",
    "df_a = pd.read_csv('/datasets/geo_data_0.csv')\n",
    "df_b = pd.read_csv('/datasets/geo_data_1.csv')\n",
    "df_c = pd.read_csv('/datasets/geo_data_2.csv')\n",
    "\n",
    "# удалим ненужный (мещающий будущему анализу столбeц)\n",
    "df_a.drop(columns = ['id'], inplace = True)\n",
    "df_b.drop(columns = ['id'], inplace = True)\n",
    "df_c.drop(columns = ['id'], inplace = True)\n",
    "\n",
    "display(df_a.head())\n",
    "display(df_b.head())\n",
    "display(df_c.head())\n",
    "\n",
    "df_a.info()\n",
    "df_b.info()\n",
    "df_c.info()"
   ]
  },
  {
   "cell_type": "markdown",
   "metadata": {},
   "source": [
    "## Вывод"
   ]
  },
  {
   "cell_type": "markdown",
   "metadata": {},
   "source": [
    "Загрузили данные(3 таблицы с регионами), в них по 100 000 точек (не 10 000  как написано в условии :) )"
   ]
  },
  {
   "cell_type": "markdown",
   "metadata": {},
   "source": [
    "<a id='train_test_model'></a>\n",
    "# 2. Обучение и проверка модели"
   ]
  },
  {
   "cell_type": "markdown",
   "metadata": {},
   "source": [
    "<dt><a href='#tap_table_of_contents'>Оглавление</a></dt>"
   ]
  },
  {
   "cell_type": "code",
   "execution_count": 12,
   "metadata": {},
   "outputs": [
    {
     "name": "stdout",
     "output_type": "stream",
     "text": [
      "средний запас предсказанного сырья в 1 регионе 92.59256778438035 RMSE_a = 37.5794217150813\n",
      "средний запас предсказанного сырья во 2 регионе 68.72854689544602 RMSE_b = 0.8930992867756158\n",
      "средний запас предсказанного сырья в 3 регионе 94.96504596800489 RMSE_c = 40.02970873393434\n"
     ]
    }
   ],
   "source": [
    "# создадим функция для обучения и проверки моделей на основе линейной регрессии\n",
    "def train_valid_regress(df):\n",
    "    features = df.drop('product', axis = 1)\n",
    "    target = df['product']\n",
    "    features_train, features_valid, target_train, target_valid = train_test_split(\n",
    "        features, target, test_size = 0.25, random_state = 12345) \n",
    "    model = LinearRegression(normalize = True)\n",
    "    model.fit(features_train, target_train)\n",
    "    predicted_valid = model.predict(features_valid)\n",
    "    RMSE = (mean_squared_error(target_valid, predicted_valid)) ** 0.5\n",
    "    MAE = mean_absolute_error(target_valid, predicted_valid)\n",
    "    r2 = r2_score(target_valid,predicted_valid)\n",
    "    return RMSE, predicted_valid, target_valid, MAE, r2\n",
    "\n",
    "# запишем все показатели для 3 месторождений \n",
    "RMSE_a, predicted_valid_a, target_valid_a, MAE_a, r2_a = train_valid_regress(df_a)\n",
    "RMSE_b, predicted_valid_b, target_valid_b, MAE_b, r2_b = train_valid_regress(df_b)\n",
    "RMSE_c, predicted_valid_c, target_valid_c, MAE_c, r2_c = train_valid_regress(df_c)\n",
    "\n",
    "# выведем на экран среднее и RMSE\n",
    "print('средний запас предсказанного сырья в 1 регионе', predicted_valid_a.mean(),'RMSE_a =', RMSE_a)\n",
    "print('средний запас предсказанного сырья во 2 регионе', predicted_valid_b.mean(),'RMSE_b =', RMSE_b)  \n",
    "print('средний запас предсказанного сырья в 3 регионе', predicted_valid_c.mean(),'RMSE_c =', RMSE_c) "
   ]
  },
  {
   "cell_type": "markdown",
   "metadata": {},
   "source": [
    "### Вывод"
   ]
  },
  {
   "cell_type": "markdown",
   "metadata": {},
   "source": [
    "На этом этапе можно сделать довольно необычные выводы, как мы видим запасов в среднем меньше всего во 2 регионе, при этом модель посчитала данное значение с невероятно высокой точностью, относитеьно других регионов, где значения довольно высокие, но `RMSE` тоже не маленькое. Из этих выводов следует что на данном этапе сказать довольно трудно, нужны дальнейшие исследования."
   ]
  },
  {
   "cell_type": "markdown",
   "metadata": {},
   "source": [
    "<a id='profit_calculation'></a>\n",
    "# 3. Подготовка к расчёту прибыли"
   ]
  },
  {
   "cell_type": "markdown",
   "metadata": {},
   "source": [
    "<dt><a href='#tap_table_of_contents'>Оглавление</a></dt>"
   ]
  },
  {
   "cell_type": "code",
   "execution_count": 13,
   "metadata": {},
   "outputs": [
    {
     "name": "stdout",
     "output_type": "stream",
     "text": [
      "111.11111111111111\n"
     ]
    }
   ],
   "source": [
    "# посчитаем необходимый запас сырья\n",
    "development_budget = 10 ** 10\n",
    "cost_of_one_thousand_barrel = 450 * (10 **3)\n",
    "amount_of_points = 200 \n",
    "required_production_volume = (development_budget) / (cost_of_one_thousand_barrel * amount_of_points) \n",
    "\n",
    "print(required_production_volume)"
   ]
  },
  {
   "cell_type": "markdown",
   "metadata": {},
   "source": [
    "### Вывод"
   ]
  },
  {
   "cell_type": "markdown",
   "metadata": {},
   "source": [
    "Сюдя по рассчетам, мы видим что 2 регион пока меньше других подходит нам. "
   ]
  },
  {
   "cell_type": "markdown",
   "metadata": {},
   "source": [
    "<a id='data_preparation'></a>\n",
    "# 4. Расчёт прибыли и рисков "
   ]
  },
  {
   "cell_type": "markdown",
   "metadata": {},
   "source": [
    "<dt><a href='#tap_table_of_contents'>Оглавление</a></dt>"
   ]
  },
  {
   "cell_type": "code",
   "execution_count": 15,
   "metadata": {
    "scrolled": true
   },
   "outputs": [],
   "source": [
    "# предсказания в Series\n",
    "predicted_valid_a = pd.Series(predicted_valid_a)\n",
    "predicted_valid_b = pd.Series(predicted_valid_b)\n",
    "predicted_valid_c = pd.Series(predicted_valid_c)\n",
    "\n",
    "# индексы разбросаны  - сбросим\n",
    "target_valid_a  = target_valid_a.reset_index(drop=True)\n",
    "target_valid_b  = target_valid_b.reset_index(drop=True)\n",
    "target_valid_c = target_valid_c.reset_index(drop=True)\n",
    "\n",
    "\n",
    "# функция для расчета прибыли\n",
    "def profit_calculation (target, probabilities):\n",
    "    probs_sorted = probabilities.sort_values(ascending = False)\n",
    "    top_200_wells = target[probs_sorted.index].head(200)\n",
    "    raw_material_volume = top_200_wells.sum()\n",
    "    profit = (cost_of_one_thousand_barrel * raw_material_volume) - development_budget\n",
    "    return profit"
   ]
  },
  {
   "cell_type": "markdown",
   "metadata": {},
   "source": [
    "### Вывод"
   ]
  },
  {
   "cell_type": "markdown",
   "metadata": {},
   "source": [
    "Обе скважины оказались прибыльными, первая немного(нужно сравнивать с  рисками и точностью модели конечно) первое месторождение более  доходное чем второе."
   ]
  },
  {
   "cell_type": "markdown",
   "metadata": {},
   "source": [
    "<a id='data_preparation'></a>\n",
    "# 5. Расчет рисков и прибыли для каждого региона"
   ]
  },
  {
   "cell_type": "markdown",
   "metadata": {},
   "source": [
    "<dt><a href='#tap_table_of_contents'>Оглавление</a></dt>"
   ]
  },
  {
   "cell_type": "code",
   "execution_count": 16,
   "metadata": {},
   "outputs": [],
   "source": [
    "# создадим списки для заполнения\n",
    "values_a = []\n",
    "values_b = []\n",
    "values_c = []\n",
    "# постоянная рандома\n",
    "state = np.random.RandomState(12345)\n",
    "\n",
    "# создадим функцию для Bootstrap\n",
    "def calculate_risks_and_rewards(target, probabilities, values):\n",
    "    for i in range(1000):\n",
    "        target_subsample = target.sample(n = 500, replace = True, random_state = state)\n",
    "        probs_subsample = probabilities[target_subsample.index]\n",
    "        values.append(profit_calculation(target_subsample, probs_subsample))\n",
    "\n",
    "# объявим       \n",
    "calculate_risks_and_rewards(target_valid_a, predicted_valid_a, values_a)\n",
    "calculate_risks_and_rewards(target_valid_b, predicted_valid_b, values_b)\n",
    "calculate_risks_and_rewards(target_valid_c, predicted_valid_c, values_c)"
   ]
  },
  {
   "cell_type": "code",
   "execution_count": 29,
   "metadata": {},
   "outputs": [
    {
     "name": "stdout",
     "output_type": "stream",
     "text": [
      "Средняя прибыль от 'a' месторождения в млрд р: 0.4259385269105923\n",
      "95%-ый доверительный интервал от 'a' месторождения: [-0.03180311434611654, 0.881341454360281]\n",
      "Убыток от 'a' месторождения с вероятностью : 6.0 % \n",
      "\n",
      "Средняя прибыль от 'b' месторождения в млрд р: 0.5182594936973249\n",
      "95%-ый доверительный интервал от 'b' месторождения: [0.18659107459380914, 0.8886405913545532]\n",
      "Убыток от 'b' месторождения с вероятностью : 0.3 % \n",
      "\n",
      "Средняя прибыль от 'с' месторождения в млрд р: 0.42019400534405005\n",
      "95%-ый доверительный интервал от 'c' месторождения: [-0.0260888562899228, 0.9095978254696507]\n",
      "Убыток от 'c' месторождения с вероятностью : 6.2 %\n"
     ]
    }
   ],
   "source": [
    "# предсказания в Series\n",
    "values_a = pd.Series(values_a)\n",
    "values_b = pd.Series(values_b)\n",
    "values_c = pd.Series(values_c)\n",
    "\n",
    "# посчитаем среднюю прибыль\n",
    "mean_values_a = values_a.mean()\n",
    "mean_values_b = values_b.mean()\n",
    "mean_values_c = values_c.mean()\n",
    "\n",
    "# функция для подсчета возможного процента убыточных ситуаций\n",
    "def damages(df):\n",
    "    return (df < 0).mean() * 100.\n",
    "\n",
    "# объявим\n",
    "percent_damages_a = damages(values_a)\n",
    "percent_damages_b = damages(values_b)\n",
    "percent_damages_c = damages(values_c)\n",
    "\n",
    "# посчитаем доверительный интервал\n",
    "values_dict = {'values_a': values_a, 'values_b' : values_b, 'values_c' : values_c}\n",
    "confidence_dict = {'confidence_a': [], 'confidence_b' : [], 'confidence_c' : []}\n",
    "\n",
    "# функция для расчета доверительного интервала\n",
    "def confidence_interval(df):\n",
    "    for k in ['a', 'b', 'c']:\n",
    "        x = values_dict[f'values_{k}']\n",
    "        lower = x.quantile(.05) / 10 ** 9 \n",
    "        upper = x.quantile(.95) / 10 ** 9\n",
    "        confidence_dict[f'confidence_{k}'] = [lower, upper]\n",
    "\n",
    "# прменим функцию        \n",
    "confidence_interval(confidence_dict)\n",
    "\n",
    "# выведем все на экран для \"a\", \"b\" и \"c\"\n",
    "print(\"Средняя прибыль от 'a' месторождения в млрд р:\", mean_values_a / 10 ** 9)\n",
    "print(\"95%-ый доверительный интервал от 'a' месторождения:\", confidence_dict['confidence_a'])\n",
    "print(\"Убыток от 'a' месторождения с вероятностью :\", percent_damages_a, '%', '\\n')\n",
    "\n",
    "print(\"Средняя прибыль от 'b' месторождения в млрд р:\", mean_values_b / 10 ** 9)\n",
    "print(\"95%-ый доверительный интервал от 'b' месторождения:\", confidence_dict['confidence_b'])\n",
    "print(\"Убыток от 'b' месторождения с вероятностью :\", percent_damages_b, '%', '\\n')\n",
    "\n",
    "print(\"Средняя прибыль от 'с' месторождения в млрд р:\", mean_values_c / 10 ** 9)\n",
    "print(\"95%-ый доверительный интервал от 'c' месторождения:\", confidence_dict['confidence_c'])\n",
    "print(\"Убыток от 'c' месторождения с вероятностью :\", percent_damages_c, '%')"
   ]
  },
  {
   "cell_type": "markdown",
   "metadata": {},
   "source": [
    "### Вывод"
   ]
  },
  {
   "cell_type": "markdown",
   "metadata": {},
   "source": [
    "Мне кажется самым удачным для разработки регион `b`. Судя по среднему возможному доходу эти регионы `(a, c)` практически идентичны. В то время как регион `b` выбивается в лидеры. Доверительный интервал также совпадает полностью `(a, c)`, вероятность убытков ниже в первом регионе(хоть бы и казалось, что незначительно). Но в регионе `b` этот показатель практически нулевой,  поэтому я бы советовал регион `b`. Все таки в отношении рисков показатели разнятся значительнее(в процентом отношении) чем в потенциальной прибыли в данных регионах. +  Доверительный интервал вообще положительный у региона `b`"
   ]
  },
  {
   "cell_type": "markdown",
   "metadata": {},
   "source": [
    "<a id='vuvod'></a>\n",
    "# Общий вывод\n",
    "    1. Загрузили и подготовили данные. Пояснили порядок действий.\n",
    "    2. Обучили и проверили модель для каждого региона:\n",
    "      2.1. Разбили данные на обучающую и валидационную выборки в соотношении 75:25.\n",
    "      2.2. Обучили модель и сделали предсказания на валидационной выборке.\n",
    "      2.3. Сохранили предсказания и правильные ответы на валидационной выборке.\n",
    "      2.4. Напечатали на экране средний запас предсказанного сырья и RMSE модели.\n",
    "      2.5. Проанализировали результаты.\n",
    "    3. Подготовились к расчёту прибыли:\n",
    "      3.1. Все ключевые значения для расчётов сохранили в отдельных переменных.\n",
    "      3.2. Рассчитали достаточный объём сырья для безубыточной разработки новой скважины. Сравнили полученный объём сырья со           средним запасом в каждом регионе.\n",
    "      3.3. Написали выводы по этапу подготовки расчёта прибыли.\n",
    "    4. Написали функцию для расчёта прибыли по выбранным скважинам и предсказаниям модели:\n",
    "      4.1. Выбрали скважины с максимальными значениями предсказаний.\n",
    "      4.2. Просуммировали целевое значение объёма сырья, соответствующее этим предсказаниям.\n",
    "      4.3. Рассчитали прибыль для полученного объёма сырья.\n",
    "    5. Посчитали риски и прибыль для каждого региона:\n",
    "      5.1. Применили технику Bootstrap с 1000 выборок, чтобы найти распределение прибыли.\n",
    "      5.2. Нашли среднюю прибыль, 95%-й доверительный интервал и риск убытков. Убыток — это отрицательная прибыль.\n",
    "      5.3. Написали выводы: предложили регион для разработки скважин и обосновали выбор.\n",
    "      Выбор пал на регион B ввиду более благоприятных(с точки зрения прогнозирования) условий: очнь низкого процента убытка, самой большой предположительной прибыли. "
   ]
  }
 ],
 "metadata": {
  "kernelspec": {
   "display_name": "Python 3",
   "language": "python",
   "name": "python3"
  },
  "language_info": {
   "codemirror_mode": {
    "name": "ipython",
    "version": 3
   },
   "file_extension": ".py",
   "mimetype": "text/x-python",
   "name": "python",
   "nbconvert_exporter": "python",
   "pygments_lexer": "ipython3",
   "version": "3.8.5"
  },
  "toc": {
   "base_numbering": 1,
   "nav_menu": {},
   "number_sections": true,
   "sideBar": true,
   "skip_h1_title": true,
   "title_cell": "Table of Contents",
   "title_sidebar": "Contents",
   "toc_cell": false,
   "toc_position": {},
   "toc_section_display": true,
   "toc_window_display": false
  }
 },
 "nbformat": 4,
 "nbformat_minor": 2
}
